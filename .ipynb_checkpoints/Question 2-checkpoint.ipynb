{
 "cells": [
  {
   "cell_type": "markdown",
   "metadata": {},
   "source": [
    "# Question 2"
   ]
  },
  {
   "cell_type": "code",
   "execution_count": 5,
   "metadata": {},
   "outputs": [],
   "source": [
    "import statistics as st\n",
    "from random import randint"
   ]
  },
  {
   "cell_type": "markdown",
   "metadata": {},
   "source": [
    "21   21   21 \n",
    "22   21   21 \n",
    "23   21   21 \n",
    "24   21   21 \n",
    "25   21   21 \n",
    "21   22   21 \n",
    "22   22   21 \n",
    "23   22   21\n",
    "24   22   21\n",
    "25   22   21\n",
    "21   23   21\n",
    "22   23   21\n",
    "23   23   21\n",
    "24   23   21\n",
    "25   23   21\n",
    "21   24   21\n",
    "22   24   21\n",
    "23   24   21\n",
    "24   24   21\n",
    "25   24   21\n",
    "21   25   21\n",
    "22   25   21\n",
    "23   25   21\n",
    "24   25   21\n",
    "25   25   21\n",
    "21   21   22\n",
    "22   21   22\n",
    "23   21   22\n",
    "24   21   22\n",
    "25   21   22\n",
    "21   22   22\n",
    "22   22   22\n",
    "23   22   22\n",
    "24   22   22\n",
    "25   22   22\n",
    "21   23   22\n",
    "22   23   22\n",
    "23   23   22\n",
    "24   23   22\n",
    "25   23   22\n",
    "21   24   22\n",
    "22   24   22\n",
    "23   24   22\n",
    "24   24   22\n",
    "25   24   22\n",
    "21   25   22\n",
    "22   25   22\n",
    "23   25   22\n",
    "24   25   22\n",
    "25   25   22\n",
    "21   21   23\n",
    "22   21   23\n",
    "23   21   23\n",
    "24   21   23\n",
    "25   21   23\n",
    "21   22   23\n",
    "22   22   23\n",
    "23   22   23\n",
    "24   22   23\n",
    "25   22   23\n",
    "21   23   23\n",
    "22   23   23\n",
    "23   23   23\n",
    "24   23   23\n",
    "25   23   23\n",
    "21   24   23\n",
    "22   24   23\n",
    "23   24   23\n",
    "24   24   23\n",
    "25   24   23\n",
    "21   25   23\n",
    "22   25   23\n",
    "23   25   23\n",
    "24   25   23\n",
    "25   25   23\n",
    "21   21   24\n",
    "22   21   24\n",
    "23   21   24\n",
    "24   21   24\n",
    "25   21   24\n",
    "21   22   24\n",
    "22   22   24\n",
    "23   22   24\n",
    "24   22   24\n",
    "25   22   24\n",
    "21   23   24\n",
    "22   23   24\n",
    "23   23   24\n",
    "24   23   24\n",
    "25   23   24\n",
    "21   24   24\n",
    "22   24   24\n",
    "23   24   24\n",
    "24   24   24\n",
    "25   24   24\n",
    "21   25   24\n",
    "22   25   24\n",
    "23   25   24\n",
    "24   25   24\n",
    "25   25   24\n",
    "21   21   25\n",
    "22   21   25\n",
    "23   21   25\n",
    "24   21   25\n",
    "25   21   25\n",
    "21   22   25\n",
    "22   22   25\n",
    "23   22   25\n",
    "24   22   25\n",
    "25   22   25\n",
    "21   23   25\n",
    "22   23   25\n",
    "23   23   25\n",
    "24   23   25\n",
    "25   23   25\n",
    "21   24   25\n",
    "22   24   25\n",
    "23   24   25\n",
    "24   24   25\n",
    "25   24   25\n",
    "21   25   25\n",
    "22   25   25\n",
    "23   25   25\n",
    "24   25   25\n",
    "25   25   25"
   ]
  },
  {
   "cell_type": "markdown",
   "metadata": {},
   "source": [
    "a) OUTPUT BELOW:"
   ]
  },
  {
   "cell_type": "code",
   "execution_count": 21,
   "metadata": {},
   "outputs": [
    {
     "name": "stdout",
     "output_type": "stream",
     "text": [
      "The biased means of the 125 different datas are the below:\n",
      "--------------------------------------------------------------\n"
     ]
    },
    {
     "data": {
      "text/plain": [
       "0.22222222222222224"
      ]
     },
     "execution_count": 21,
     "metadata": {},
     "output_type": "execute_result"
    }
   ],
   "source": [
    "def myVariance(data):\n",
    "    # finds the variance of a given set of numbers\n",
    "    for i in range(len(data)):\n",
    "        xbar = st.mean(data[i])\n",
    "        return sum([(x - xbar)**2 for x in data[i]])/(len(data[i]))\n",
    "#     return sum([(x - xbar)**2 for x in data])/(len(data))\n",
    "\n",
    "print(\"The biased means of the 125 different datas are the below:\")\n",
    "print('--------------------------------------------------------------')\n",
    "\n",
    "\n",
    "# myVariance([[21, 21, 21], ])\n",
    "\n",
    "# print([[22,22,22]][0])\n"
   ]
  },
  {
   "cell_type": "code",
   "execution_count": null,
   "metadata": {},
   "outputs": [],
   "source": [
    "# def myUnbiasedVariance(data):\n",
    "#     # finds the 'unbiased' variance of a given set of numbers (divides by N-1) \n",
    "#     xbar = st.mean(data)\n",
    "#     return sum([(x - xbar)**2 for x in data])/(len(data)-1)\n",
    "def myUnbiasedVariance(data):\n",
    "    # finds the variance of a given set of numbers\n",
    "    for i in range(len(data)):\n",
    "        xbar = st.mean(data[i])\n",
    "        return sum([(x - xbar)**2 for x in data[i]])/(len(data[i]) - 1)"
   ]
  }
 ],
 "metadata": {
  "kernelspec": {
   "display_name": "Python 3",
   "language": "python",
   "name": "python3"
  },
  "language_info": {
   "codemirror_mode": {
    "name": "ipython",
    "version": 3
   },
   "file_extension": ".py",
   "mimetype": "text/x-python",
   "name": "python",
   "nbconvert_exporter": "python",
   "pygments_lexer": "ipython3",
   "version": "3.6.2"
  }
 },
 "nbformat": 4,
 "nbformat_minor": 2
}
