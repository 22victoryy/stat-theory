{
 "cells": [
  {
   "cell_type": "markdown",
   "metadata": {},
   "source": [
    "# Question 2"
   ]
  },
  {
   "cell_type": "code",
   "execution_count": 29,
   "metadata": {},
   "outputs": [],
   "source": [
    "import statistics as st\n",
    "from random import randint\n",
    "import numpy as np"
   ]
  },
  {
   "cell_type": "code",
   "execution_count": 30,
   "metadata": {},
   "outputs": [],
   "source": [
    "a = [[21,   21,   21], \n",
    "[22 ,  21 ,  21], \n",
    "[23  , 21  , 21],\n",
    "[24   ,21   ,21],\n",
    "[25,   21,   21],\n",
    "[21 ,  22 ,  21],\n",
    "[22  , 22  , 21],\n",
    "[23   ,22   ,21],\n",
    "[24,   22,   21],\n",
    "[25 ,  22 ,  21],\n",
    "[21  , 23  , 21],\n",
    "[22   ,23   ,21],\n",
    "[23,   23,   21],\n",
    "[24 ,  23 ,  21],\n",
    "[25  , 23  , 21],\n",
    "[21   ,24   ,21],\n",
    "[22,   24,   21],\n",
    "[23 ,  24 ,  21],\n",
    "[24  , 24  , 21],\n",
    "[25   ,24   ,21],\n",
    "[21,   25,   21],\n",
    "[22 ,  25 ,  21],\n",
    "[23  , 25  , 21],\n",
    "[24   ,25   ,21],\n",
    "[25,   25,   21],\n",
    "[21 ,  21 ,  22],\n",
    "[22  , 21  , 22],\n",
    "[23   ,21   ,22],\n",
    "[24,   21,   22],\n",
    "[25 ,  21 ,  22],\n",
    "[21  , 22  , 22],\n",
    "[22   ,22   ,22],\n",
    "[23,   22,   22],\n",
    "[24 ,  22 ,  22],\n",
    "[25  , 22  , 22],\n",
    "[21   ,23   ,22],\n",
    "[22,   23,   22],\n",
    "[23 ,  23 ,  22],\n",
    "[24  , 23  , 22],\n",
    "[25   ,23   ,22],\n",
    "[21,   24,   22],\n",
    "[22 ,  24 ,  22],\n",
    "[23  , 24  , 22],\n",
    "[24   ,24   ,22],\n",
    "[25,   24,   22],\n",
    "[21 ,  25 ,  22],\n",
    "[22  , 25  , 22],\n",
    "[23   ,25   ,22],\n",
    "[24,   25,   22],\n",
    "[25 ,  25 ,  22],\n",
    "[21  , 21  , 23],\n",
    "[22   ,21   ,23],\n",
    "[23,   21,   23],\n",
    "[24 ,  21 ,  23],\n",
    "[25  , 21  , 23],\n",
    "[21   ,22   ,23],\n",
    "[22,   22,   23],\n",
    "[23 ,  22 ,  23],\n",
    "[24  , 22  , 23],\n",
    "[25   ,22   ,23],\n",
    "[21,   23,   23],\n",
    "[22 ,  23 ,  23],\n",
    "[23  , 23  , 23],\n",
    "[24   ,23   ,23],\n",
    "[25,   23,   23],\n",
    "[21 ,  24 ,  23],\n",
    "[22  , 24  , 23],\n",
    "[23   ,24   ,23],\n",
    "[24,   24,   23],\n",
    "[25 ,  24 ,  23],\n",
    "[21  , 25  , 23],\n",
    "[22   ,25   ,23],\n",
    "[23,   25,   23],\n",
    "[24 ,  25 ,  23],\n",
    "[25  , 25  , 23],\n",
    "[21   ,21   ,24],\n",
    "[22,   21,   24],\n",
    "[23 ,  21 ,  24],\n",
    "[24  , 21  , 24],\n",
    "[25   ,21   ,24],\n",
    "[21,   22,   24],\n",
    "[22 ,  22 ,  24],\n",
    "[23  , 22  , 24],\n",
    "[24   ,22   ,24],\n",
    "[25,   22,   24],\n",
    "[21 ,  23 ,  24],\n",
    "[22  , 23  , 24],\n",
    "[23   ,23   ,24],\n",
    "[24,   23,   24],\n",
    "[25 ,  23 ,  24],\n",
    "[21  , 24  , 24],\n",
    "[22   ,24   ,24],\n",
    "[23,   24,   24],\n",
    "[24 ,  24 ,  24],\n",
    "[25  , 24  , 24],\n",
    "[21   ,25   ,24],\n",
    "[22,   25,   24],\n",
    "[23 ,  25 ,  24],\n",
    "[24  , 25  , 24],\n",
    "[25   ,25   ,24],\n",
    "[21,   21,   25],\n",
    "[22 ,  21 ,  25],\n",
    "[23  , 21  , 25],\n",
    "[24   ,21   ,25],\n",
    "[25,   21,   25],\n",
    "[21 ,  22 ,  25],\n",
    "[22  , 22  , 25],\n",
    "[23   ,22   ,25],\n",
    "[24,   22,   25],\n",
    "[25 ,  22 ,  25],\n",
    "[21  , 23  , 25],\n",
    "[22   ,23   ,25],\n",
    "[23,   23,   25],\n",
    "[24 ,  23 ,  25],\n",
    "[25  , 23  , 25],\n",
    "[21   ,24   ,25],\n",
    "[22,   24,   25],\n",
    "[23 ,  24 ,  25],\n",
    "[24  , 24  , 25],\n",
    "[25   ,24   ,25],\n",
    "[21,   25,   25],\n",
    "[22 ,  25 ,  25],\n",
    "[23  , 25  , 25],\n",
    "[24   ,25   ,25],\n",
    "[25,   25,   25]]"
   ]
  },
  {
   "cell_type": "markdown",
   "metadata": {},
   "source": [
    "a) OUTPUT BELOW: "
   ]
  },
  {
   "cell_type": "markdown",
   "metadata": {},
   "source": [
    "a) Below is the Calculation of the $Bias[S^2]$ and $Bias[\\hat{\\sigma}^2]$ for all 125 distributions, and whether each variance is biased or unbiased. <BR>\n",
    "   OUTPUT BELOW:"
   ]
  },
  {
   "cell_type": "code",
   "execution_count": 31,
   "metadata": {},
   "outputs": [
    {
     "name": "stdout",
     "output_type": "stream",
     "text": [
      "Bias[S^2]:\n",
      "4.440892098500626e-16\n",
      "-------------------------------------------------\n",
      "Bias[S^2]: 4.440892098500626e-16, approximately zero. For instance, the value is very close to zero, which approximatly satisfies the unbiasedness condition where the expectation of estimator of theta minus theta is equal to zero. Therefore, S^2, consistent with the definition, is unbiased.\n"
     ]
    }
   ],
   "source": [
    "theta = 2\n",
    "\n",
    "def UnBiasedVarianceList(data):\n",
    "    # finds the variance of a given set of numbers\n",
    "    l = []\n",
    "    for i in range(len(data)):\n",
    "        xbar = st.mean(data[i])\n",
    "        var = sum([(x - xbar)**2 for x in data[i]])/(len(data[i]) - 1) # Unbiased\n",
    "        l.append(var)\n",
    "    return l\n",
    "\n",
    "unbiased = UnBiasedVarianceList(a)\n",
    "\n",
    "unbias = np.mean(unbiased) - theta\n",
    "\n",
    "print(\"Bias[S^2]:\")\n",
    "print(unbias)\n",
    "\n",
    "print('-------------------------------------------------')\n",
    "\n",
    "print (\"Bias[S^2]: {}, approximately zero. For instance, the value is very close to zero, which \\\n",
    "approximatly satisfies the unbiasedness condition where the expectation of estimator of theta minus theta is \\\n",
    "equal to zero. Therefore, S^2, consistent with the definition, is unbiased.\".format(unbias))"
   ]
  },
  {
   "cell_type": "code",
   "execution_count": 34,
   "metadata": {},
   "outputs": [
    {
     "name": "stdout",
     "output_type": "stream",
     "text": [
      "Bias[a^2]:\n",
      "-0.6666666666666667\n",
      "-------------------------------------------------\n",
      "Bias[a^2]: -0.6666666666666667. For instance, this satisfies the biasedness condition where the expectation of estimator of theta minus theta is not equal to zero. This case, it underestimates. Therefore, a^2, consistent with the definition,is biased.\n"
     ]
    }
   ],
   "source": [
    "def BiasedVarianceList(data):\n",
    "    # finds the variance of a given set of numbers\n",
    "    l = []\n",
    "    for i in range(len(data)):\n",
    "        xbar = st.mean(data[i])\n",
    "        var = sum([(x - xbar)**2 for x in data[i]])/(len(data[i]))\n",
    "        l.append(var)\n",
    "    return l\n",
    "\n",
    "biased = BiasedVarianceList(a)\n",
    "        \n",
    "\n",
    "bias = np.mean(biased) - theta\n",
    "    \n",
    "    \n",
    "print(\"Bias[a^2]:\")\n",
    "print(bias)\n",
    "\n",
    "print('-------------------------------------------------')\n",
    "\n",
    "print (\"Bias[a^2]: {}. For instance, this satisfies the biasedness condition where the expectation of estimator of \\\n",
    "theta minus theta is not equal to zero. This case, it underestimates. Therefore, a^2, consistent with the definition,\\\n",
    "is biased.\".format(bias))"
   ]
  },
  {
   "cell_type": "markdown",
   "metadata": {},
   "source": [
    "b) $MSE[\\hat{\\sigma}^2] = var[\\hat{\\sigma}^2] + (Bias[\\hat{\\sigma}^2])^2$ <br>\n",
    "   * We will check the identity of this by calculating all three parts seperatly."
   ]
  },
  {
   "cell_type": "markdown",
   "metadata": {},
   "source": [
    "The MSE for an estimator is $MSE[T] = E[(T - \\theta)^2]$, where $T$ is an estimator for $\\theta$.\n",
    "We know that $\\theta$ is 2, according to the handout. Below is an MSE decomposition."
   ]
  },
  {
   "cell_type": "code",
   "execution_count": 35,
   "metadata": {},
   "outputs": [
    {
     "name": "stdout",
     "output_type": "stream",
     "text": [
      "Identity: MSE[sigma hat squared] = Var(sigma hat squared) + (Bias[sigma hat squared])^2\n",
      "----------------------------------------------------------------------------------------------\n",
      "MSE result: 1.4518518518518517\n",
      "Variance: 1.0074074074074073\n",
      "Bias: 0.44444444444444453\n",
      "----------------------------------------------------------------------------------------------\n",
      "Decomposed result: 1.4518518518518517\n",
      "Therefore, the identity is satisfied.\n"
     ]
    }
   ],
   "source": [
    "u = BiasedVarianceList(a)\n",
    "theta_hat = np.asarray(u)  #estimator\n",
    "mse = np.mean(np.square(theta-theta_hat))\n",
    "\n",
    "results = biased\n",
    "m = sum(results) / len(results)\n",
    "var = sum((xi - m) ** 2 for xi in results) / len(results)\n",
    "\n",
    "print(\"Identity: MSE[sigma hat squared] = Var(sigma hat squared) + (Bias[sigma hat squared])^2\")\n",
    "print(\"----------------------------------------------------------------------------------------------\")\n",
    "print(\"MSE result:\", mse)\n",
    "print(\"Variance:\", var)\n",
    "print(\"Bias:\", bias * bias)\n",
    "print(\"----------------------------------------------------------------------------------------------\")\n",
    "print(\"Decomposed result:\", var + bias*bias)\n",
    "print(\"Therefore, the identity is satisfied.\")"
   ]
  }
 ],
 "metadata": {
  "kernelspec": {
   "display_name": "Python 3",
   "language": "python",
   "name": "python3"
  },
  "language_info": {
   "codemirror_mode": {
    "name": "ipython",
    "version": 3
   },
   "file_extension": ".py",
   "mimetype": "text/x-python",
   "name": "python",
   "nbconvert_exporter": "python",
   "pygments_lexer": "ipython3",
   "version": "3.6.2"
  }
 },
 "nbformat": 4,
 "nbformat_minor": 2
}
