{
 "cells": [
  {
   "cell_type": "markdown",
   "metadata": {},
   "source": [
    "## Question 1 ##"
   ]
  },
  {
   "cell_type": "markdown",
   "metadata": {},
   "source": [
    "a) The mean is 23."
   ]
  },
  {
   "cell_type": "code",
   "execution_count": 1,
   "metadata": {},
   "outputs": [
    {
     "data": {
      "text/plain": [
       "'The mean is 23.0'"
      ]
     },
     "execution_count": 1,
     "metadata": {},
     "output_type": "execute_result"
    }
   ],
   "source": [
    "def mean(numbers):\n",
    "    return \"The mean is {}\".format(float(sum(numbers)) / max(len(numbers), 1))\n",
    "\n",
    "mean([21, 22, 23, 24, 25])"
   ]
  },
  {
   "cell_type": "markdown",
   "metadata": {},
   "source": [
    "b) The variance is 2."
   ]
  },
  {
   "cell_type": "code",
   "execution_count": 2,
   "metadata": {},
   "outputs": [
    {
     "name": "stdout",
     "output_type": "stream",
     "text": [
      "The variance is 2.0\n"
     ]
    }
   ],
   "source": [
    "results = [21, 22, 23, 24, 25]\n",
    "m = sum(results) / len(results)\n",
    "\n",
    "var_res = sum((xi - m) ** 2 for xi in results) / len(results)\n",
    "\n",
    "print(\"The variance is {}\".format(var_res))"
   ]
  },
  {
   "cell_type": "markdown",
   "metadata": {},
   "source": [
    "c) The R code to get the 125 combinations is written below:\n",
    "\n",
    "\n",
    "expand.grid( c(21:25), c(21:25), c(21:25) )"
   ]
  },
  {
   "cell_type": "markdown",
   "metadata": {},
   "source": [
    "d) OUTPUT BELOW:"
   ]
  },
  {
   "cell_type": "code",
   "execution_count": 3,
   "metadata": {},
   "outputs": [
    {
     "name": "stdout",
     "output_type": "stream",
     "text": [
      "21.0\n",
      "21.333333333333332\n",
      "21.666666666666668\n",
      "22.0\n",
      "22.333333333333332\n",
      "21.333333333333332\n",
      "21.666666666666668\n",
      "22.0\n",
      "22.333333333333332\n",
      "22.666666666666668\n",
      "21.666666666666668\n",
      "22.0\n",
      "22.333333333333332\n",
      "22.666666666666668\n",
      "23.0\n",
      "22.0\n",
      "22.333333333333332\n",
      "22.666666666666668\n",
      "23.0\n",
      "23.333333333333332\n",
      "22.333333333333332\n",
      "22.666666666666668\n",
      "23.0\n",
      "23.333333333333332\n",
      "23.666666666666668\n",
      "21.333333333333332\n",
      "21.666666666666668\n",
      "22.0\n",
      "22.333333333333332\n",
      "22.666666666666668\n",
      "21.666666666666668\n",
      "22.0\n",
      "22.333333333333332\n",
      "22.666666666666668\n",
      "23.0\n",
      "22.0\n",
      "22.333333333333332\n",
      "22.666666666666668\n",
      "23.0\n",
      "23.333333333333332\n",
      "22.333333333333332\n",
      "22.666666666666668\n",
      "23.0\n",
      "23.333333333333332\n",
      "23.666666666666668\n",
      "22.666666666666668\n",
      "23.0\n",
      "23.333333333333332\n",
      "23.666666666666668\n",
      "24.0\n",
      "21.666666666666668\n",
      "22.0\n",
      "22.333333333333332\n",
      "22.666666666666668\n",
      "23.0\n",
      "22.0\n",
      "22.333333333333332\n",
      "22.666666666666668\n",
      "23.0\n",
      "23.333333333333332\n",
      "22.333333333333332\n",
      "22.666666666666668\n",
      "23.0\n",
      "23.333333333333332\n",
      "23.666666666666668\n",
      "22.666666666666668\n",
      "23.0\n",
      "23.333333333333332\n",
      "23.666666666666668\n",
      "24.0\n",
      "23.0\n",
      "23.333333333333332\n",
      "23.666666666666668\n",
      "24.0\n",
      "24.333333333333332\n",
      "22.0\n",
      "22.333333333333332\n",
      "22.666666666666668\n",
      "23.0\n",
      "23.333333333333332\n",
      "22.333333333333332\n",
      "22.666666666666668\n",
      "23.0\n",
      "23.333333333333332\n",
      "23.666666666666668\n",
      "22.666666666666668\n",
      "23.0\n",
      "23.333333333333332\n",
      "23.666666666666668\n",
      "24.0\n",
      "23.0\n",
      "23.333333333333332\n",
      "23.666666666666668\n",
      "24.0\n",
      "24.333333333333332\n",
      "23.333333333333332\n",
      "23.666666666666668\n",
      "24.0\n",
      "24.333333333333332\n",
      "24.666666666666668\n",
      "22.333333333333332\n",
      "22.666666666666668\n",
      "23.0\n",
      "23.333333333333332\n",
      "23.666666666666668\n",
      "22.666666666666668\n",
      "23.0\n",
      "23.333333333333332\n",
      "23.666666666666668\n",
      "24.0\n",
      "23.0\n",
      "23.333333333333332\n",
      "23.666666666666668\n",
      "24.0\n",
      "24.333333333333332\n",
      "23.333333333333332\n",
      "23.666666666666668\n",
      "24.0\n",
      "24.333333333333332\n",
      "24.666666666666668\n",
      "23.666666666666668\n",
      "24.0\n",
      "24.333333333333332\n",
      "24.666666666666668\n",
      "25.0\n"
     ]
    }
   ],
   "source": [
    "a = [[21,   21,   21], [22 ,  21 ,  21], [23  , 21  , 21],[24   ,21   ,21],[25,   21,   21],[21 ,  22 ,  21],\n",
    "     [22  , 22  , 21],[23   ,22   ,21], [24,   22,   21],[25 ,  22 ,  21],[21  , 23  , 21],[22   ,23   ,21],\n",
    "     [23,   23,   21],[24 ,  23 ,  21],[25  , 23  , 21],[21   ,24   ,21],[22,   24,   21],[23 ,  24 ,  21],\n",
    "     [24  , 24  , 21],[25   ,24   ,21],[21,   25,   21],[22 ,  25 ,  21],[23  , 25  , 21],[24   ,25   ,21],\n",
    "     [25,   25,   21],[21 ,  21 ,  22],[22  , 21  , 22],[23   ,21   ,22],[24,   21,   22],[25 ,  21 ,  22],\n",
    "     [21  , 22  , 22],[22   ,22   ,22],[23,   22,   22],[24 ,  22 ,  22],[25  , 22  , 22],[21   ,23   ,22],\n",
    "     [22,   23,   22],[23 ,  23 ,  22],[24  , 23  , 22],[25   ,23   ,22],[21,   24,   22],[22 ,  24 ,  22],\n",
    "     [23  , 24  , 22],[24   ,24   ,22],[25,   24,   22],[21 ,  25 ,  22],[22  , 25  , 22],[23   ,25   ,22],\n",
    "     [24,   25,   22],[25 ,  25 ,  22],[21  , 21  , 23],[22   ,21   ,23],[23,   21,   23],[24 ,  21 ,  23],\n",
    "     [25  , 21  , 23],[21   ,22   ,23],[22,   22,   23],[23 ,  22 ,  23],[24  , 22  , 23],[25   ,22   ,23],\n",
    "     [21,   23,   23],[22 ,  23 ,  23],[23  , 23  , 23],[24   ,23   ,23],[25,   23,   23],[21 ,  24 ,  23],\n",
    "     [22  , 24  , 23],[23   ,24   ,23],[24,   24,   23],[25 ,  24 ,  23],[21  , 25  , 23],[22   ,25   ,23],\n",
    "     [23,   25,   23],[24 ,  25 ,  23],[25  , 25  , 23],[21   ,21   ,24],[22,   21,   24],[23 ,  21 ,  24],\n",
    "     [24  , 21  , 24],[25   ,21   ,24],[21,   22,   24],[22 ,  22 ,  24],[23  , 22  , 24],[24   ,22   ,24],\n",
    "     [25,   22,   24],[21 ,  23 ,  24],[22  , 23  , 24],[23   ,23   ,24],[24,   23,   24],[25 ,  23 ,  24],\n",
    "     [21  , 24  , 24],[22   ,24   ,24],[23,   24,   24],[24 ,  24 ,  24],[25  , 24  , 24],[21   ,25   ,24],\n",
    "     [22,   25,   24],[23 ,  25 ,  24],[24  , 25  , 24],[25   ,25   ,24],[21,   21,   25],[22 ,  21 ,  25],\n",
    "     [23  , 21  , 25],[24   ,21   ,25],[25,   21,   25],[21 ,  22 ,  25],[22  , 22  , 25],[23   ,22   ,25],\n",
    "     [24,   22,   25],[25 ,  22 ,  25],[21  , 23  , 25],[22   ,23   ,25],[23,   23,   25],[24 ,  23 ,  25],\n",
    "     [25  , 23  , 25],[21   ,24   ,25],[22,   24,   25],[23 ,  24 ,  25],[24  , 24  , 25],[25   ,24   ,25],\n",
    "     [21,   25,   25],[22 ,  25 ,  25],[23  , 25  , 25],[24   ,25   ,25],[25,   25,   25]]\n",
    "\n",
    "def sample_mean(l):\n",
    "    i = 0\n",
    "    mean_list = []\n",
    "    while i < len(l):\n",
    "        mean = sum(l[i]) / len(l[i]) \n",
    "        mean_list = [*mean_list, mean]\n",
    "        i += 1\n",
    "    return mean_list\n",
    "\n",
    "for i in sample_mean(a):\n",
    "    print(i)"
   ]
  },
  {
   "cell_type": "markdown",
   "metadata": {},
   "source": [
    "e) PLOT and PORPORTION ANSWERS BELOW:"
   ]
  },
  {
   "cell_type": "code",
   "execution_count": 49,
   "metadata": {},
   "outputs": [
    {
     "name": "stdout",
     "output_type": "stream",
     "text": [
      "{'Item': 'Frequency'}\n",
      "{21.0: 1}\n",
      "{21.333333333333332: 3}\n",
      "{21.666666666666668: 6}\n",
      "{22.0: 10}\n",
      "{22.333333333333332: 15}\n",
      "{22.666666666666668: 18}\n",
      "{23.0: 19}\n",
      "{23.333333333333332: 18}\n",
      "{23.666666666666668: 15}\n",
      "{24.0: 10}\n",
      "{24.333333333333332: 6}\n",
      "{24.666666666666668: 3}\n",
      "{25.0: 1}\n",
      "=========================================================================\n",
      "The proportion of 21.0 is 1/125\n",
      "The proportion of 21.3333333333333 is 3/125\n",
      "The proportion of 21.6666666666666 is 6/125\n",
      "The proportion of 22.0 is 10/125\n",
      "The proportion of 22.3333333333333 is 15/125\n",
      "The proportion of 22.6666666666666 is 18/125\n",
      "The proportion of 23.0 is 19/125\n",
      "The proportion of 23.3333333333333 is 18/125\n",
      "The proportion of 23.6666666666666 is 15/125\n",
      "The proportion of 24.0 is 10/125\n",
      "The proportion of 24.3333333333333 is 6/125\n",
      "The proportion of 24.6666666666666 is 3/125\n",
      "The proportion of 25.0 is 1/125\n",
      "=========================================================================\n",
      "Total: 125/125\n"
     ]
    }
   ],
   "source": [
    "l = sample_mean(a)\n",
    "def frequencyTable(alist):\n",
    "    countdict = {}\n",
    "\n",
    "    for item in alist:\n",
    "        if item in countdict:\n",
    "            countdict[item] = countdict[item] + 1\n",
    "        else:\n",
    "            countdict[item] = 1\n",
    "    itemlist = list(countdict.keys())\n",
    "    itemlist.sort()\n",
    "\n",
    "    print({'Item':'Frequency'})\n",
    "\n",
    "    for item in itemlist:\n",
    "        print ({item: countdict[item]})\n",
    "\n",
    "frequencyTable(l)\n",
    "print('=========================================================================')\n",
    "print(\"The proportion of 21.0 is 1/125\")\n",
    "print(\"The proportion of 21.3333333333333 is 3/125\")\n",
    "print(\"The proportion of 21.6666666666666 is 6/125\")\n",
    "print(\"The proportion of 22.0 is 10/125\")\n",
    "print(\"The proportion of 22.3333333333333 is 15/125\")\n",
    "print(\"The proportion of 22.6666666666666 is 18/125\")\n",
    "print(\"The proportion of 23.0 is 19/125\")\n",
    "print(\"The proportion of 23.3333333333333 is 18/125\")\n",
    "print(\"The proportion of 23.6666666666666 is 15/125\")\n",
    "print(\"The proportion of 24.0 is 10/125\")\n",
    "print(\"The proportion of 24.3333333333333 is 6/125\")\n",
    "print(\"The proportion of 24.6666666666666 is 3/125\")\n",
    "print(\"The proportion of 25.0 is 1/125\")\n",
    "print('=========================================================================')\n",
    "print('Total: 125/125')"
   ]
  },
  {
   "cell_type": "markdown",
   "metadata": {},
   "source": [
    "f) PLOT BELOW:\n",
    "   * The plot below resembles a Normal Distribution."
   ]
  },
  {
   "cell_type": "code",
   "execution_count": 50,
   "metadata": {},
   "outputs": [
    {
     "data": {
      "image/png": "[encoded data removed]",
      "text/plain": [
       "<Figure size 432x288 with 1 Axes>"
      ]
     },
     "metadata": {
      "needs_background": "light"
     },
     "output_type": "display_data"
    }
   ],
   "source": [
    "import matplotlib.pyplot as plt\n",
    "\n",
    "values = [1,3,6,10,15,18,19,18,15,10,6,3,1]\n",
    "\n",
    "proportions = [21.0,21.333333333333332,21.666666666666668,22.0,22.333333333333332,22.666666666666668,23.0, \\\n",
    "               23.333333333333332,23.666666666666668,24.0, 24.333333333333332, 24.666666666666668,25.0]  \n",
    "plt.plot(proportions, values, 'ro')\n",
    "plt.show()"
   ]
  },
  {
   "cell_type": "code",
   "execution_count": 133,
   "metadata": {},
   "outputs": [
    {
     "name": "stdout",
     "output_type": "stream",
     "text": [
      "======= AFTER CONNECTING THESE POINTS ====== \n"
     ]
    },
    {
     "data": {
      "image/png": "[encoded data removed]",
      "text/plain": [
       "<Figure size 432x288 with 1 Axes>"
      ]
     },
     "metadata": {
      "needs_background": "light"
     },
     "output_type": "display_data"
    },
    {
     "name": "stdout",
     "output_type": "stream",
     "text": [
      "Result: Resembles a Normal Distribution.\n"
     ]
    }
   ],
   "source": [
    "print('======= AFTER CONNECTING THESE POINTS ====== ')\n",
    "plt.plot(proportions, values)\n",
    "plt.show()\n",
    "print('Result: Resembles a Normal Distribution.')"
   ]
  },
  {
   "cell_type": "markdown",
   "metadata": {},
   "source": [
    "g) OUTPUT BELOW:"
   ]
  },
  {
   "cell_type": "code",
   "execution_count": 134,
   "metadata": {},
   "outputs": [
    {
     "name": "stdout",
     "output_type": "stream",
     "text": [
      "The mean is 22.8\n",
      "The value compared to a) is almost identical (to be precise, very slightly less).\n"
     ]
    }
   ],
   "source": [
    "import numpy as np\n",
    "\n",
    "a = 21.0 * 1\n",
    "b = 21.333333333333332 * 3\n",
    "c = 21.666666666666668 * 6\n",
    "d = 22.0 * 10\n",
    "e = 22.333333333333332 * 15\n",
    "f = 22.666666666666668 * 18\n",
    "g = 23.0 * 19\n",
    "h = 23.333333333333332 * 18\n",
    "i = 23.666666666666668 * 15\n",
    "j = 24.0 * 10\n",
    "k = 24.333333333333332 * 6\n",
    "ll = 24.666666666666668 * 3\n",
    "m = 25.0 * 1\n",
    "temp = [a,b,c,d,e,f,g,h,i,j,k,ll]\n",
    "\n",
    "print('The mean is {}'.format(float(sum(temp)) / 125))\n",
    "print('The value compared to a) is almost identical (to be precise, very slightly less).')"
   ]
  },
  {
   "cell_type": "markdown",
   "metadata": {},
   "source": [
    "h) OUTOUT BELOW:"
   ]
  },
  {
   "cell_type": "code",
   "execution_count": 125,
   "metadata": {},
   "outputs": [
    {
     "name": "stdout",
     "output_type": "stream",
     "text": [
      "0.6666666666666655\n",
      "The variance is smaller than the answer of b. This is because the sample sized increased. As sample size increases, variance decreases, since variability will decrease.\n"
     ]
    }
   ],
   "source": [
    "# print(sum(map(float,l)))\n",
    "\n",
    "m = float(sum(l) / 125)\n",
    "\n",
    "var_res = sum((xi - m) ** 2 for xi in l) / 125.0\n",
    "\n",
    "print(var_res)\n",
    "\n",
    "print('The variance is smaller than the answer of b. This is because the sample sized increased. As sample size \\\n",
    "increases, variance decreases, since variability will decrease.')"
   ]
  },
  {
   "cell_type": "markdown",
   "metadata": {},
   "source": [
    "i) All the above provide empricial evidence for the CENTRAL LIMIT THEOREM."
   ]
  }
 ],
 "metadata": {
  "kernelspec": {
   "display_name": "Python 3",
   "language": "python",
   "name": "python3"
  },
  "language_info": {
   "codemirror_mode": {
    "name": "ipython",
    "version": 3
   },
   "file_extension": ".py",
   "mimetype": "text/x-python",
   "name": "python",
   "nbconvert_exporter": "python",
   "pygments_lexer": "ipython3",
   "version": "3.6.2"
  }
 },
 "nbformat": 4,
 "nbformat_minor": 2
}
