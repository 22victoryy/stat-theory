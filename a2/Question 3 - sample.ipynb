{
 "cells": [
  {
   "cell_type": "markdown",
   "metadata": {},
   "source": [
    "# Question 3 #"
   ]
  },
  {
   "cell_type": "code",
   "execution_count": 1,
   "metadata": {},
   "outputs": [
    {
     "data": {
      "text/html": [
       "<style>\n",
       ".list-inline {list-style: none; margin:0; padding: 0}\n",
       ".list-inline>li {display: inline-block}\n",
       ".list-inline>li:not(:last-child)::after {content: \"\\00b7\"; padding: 0 .5ex}\n",
       "</style>\n",
       "<ol class=list-inline><li>2.67</li><li>0.89</li><li>8.13</li><li>3.48</li><li>8.57</li><li>11.37</li><li>8.76</li><li>13.28</li><li>3.29</li><li>6.94</li><li>10.62</li><li>9.3</li><li>4.72</li><li>13.1</li><li>10.76</li></ol>\n"
      ],
      "text/latex": [
       "\\begin{enumerate*}\n",
       "\\item 2.67\n",
       "\\item 0.89\n",
       "\\item 8.13\n",
       "\\item 3.48\n",
       "\\item 8.57\n",
       "\\item 11.37\n",
       "\\item 8.76\n",
       "\\item 13.28\n",
       "\\item 3.29\n",
       "\\item 6.94\n",
       "\\item 10.62\n",
       "\\item 9.3\n",
       "\\item 4.72\n",
       "\\item 13.1\n",
       "\\item 10.76\n",
       "\\end{enumerate*}\n"
      ],
      "text/markdown": [
       "1. 2.67\n",
       "2. 0.89\n",
       "3. 8.13\n",
       "4. 3.48\n",
       "5. 8.57\n",
       "6. 11.37\n",
       "7. 8.76\n",
       "8. 13.28\n",
       "9. 3.29\n",
       "10. 6.94\n",
       "11. 10.62\n",
       "12. 9.3\n",
       "13. 4.72\n",
       "14. 13.1\n",
       "15. 10.76\n",
       "\n",
       "\n"
      ],
      "text/plain": [
       " [1]  2.67  0.89  8.13  3.48  8.57 11.37  8.76 13.28  3.29  6.94 10.62  9.30\n",
       "[13]  4.72 13.10 10.76"
      ]
     },
     "metadata": {},
     "output_type": "display_data"
    },
    {
     "data": {
      "text/html": [
       "<style>\n",
       ".list-inline {list-style: none; margin:0; padding: 0}\n",
       ".list-inline>li {display: inline-block}\n",
       ".list-inline>li:not(:last-child)::after {content: \"\\00b7\"; padding: 0 .5ex}\n",
       "</style>\n",
       "<ol class=list-inline><li>7.84</li><li>7.34</li><li>3.4</li><li>4.54</li><li>17.97</li><li>2.79</li><li>5.82</li><li>0.47</li><li>4.55</li><li>4.32</li><li>2.9</li><li>12.12</li></ol>\n"
      ],
      "text/latex": [
       "\\begin{enumerate*}\n",
       "\\item 7.84\n",
       "\\item 7.34\n",
       "\\item 3.4\n",
       "\\item 4.54\n",
       "\\item 17.97\n",
       "\\item 2.79\n",
       "\\item 5.82\n",
       "\\item 0.47\n",
       "\\item 4.55\n",
       "\\item 4.32\n",
       "\\item 2.9\n",
       "\\item 12.12\n",
       "\\end{enumerate*}\n"
      ],
      "text/markdown": [
       "1. 7.84\n",
       "2. 7.34\n",
       "3. 3.4\n",
       "4. 4.54\n",
       "5. 17.97\n",
       "6. 2.79\n",
       "7. 5.82\n",
       "8. 0.47\n",
       "9. 4.55\n",
       "10. 4.32\n",
       "11. 2.9\n",
       "12. 12.12\n",
       "\n",
       "\n"
      ],
      "text/plain": [
       " [1]  7.84  7.34  3.40  4.54 17.97  2.79  5.82  0.47  4.55  4.32  2.90 12.12"
      ]
     },
     "metadata": {},
     "output_type": "display_data"
    }
   ],
   "source": [
    "# Only change this following line, remove 261 and put your student id\n",
    "student_id=1003998757 # my student ID \n",
    "# do not change anything below\n",
    "set.seed(student_id)\n",
    "Group1= round(rnorm(15,mean=10,sd=4),2)\n",
    "Group2= round(rnorm(12,mean=7,sd=4),2)\n",
    "x= round(rnorm(15,mean=18,sd=4),2)\n",
    "y= round(50+1.5*x+rnorm(15, mean=0, sd=5),2)\n",
    "#Data for Quesiton 2 and 3\n",
    "Group1\n",
    "Group2"
   ]
  },
  {
   "cell_type": "markdown",
   "metadata": {},
   "source": [
    "For groups 1 and 2, we will assign a Categorical variable X where if it is group 1 it will be labelled them as 1 and if it is group 2, it will be labelled as 2."
   ]
  },
  {
   "cell_type": "code",
   "execution_count": null,
   "metadata": {},
   "outputs": [],
   "source": []
  }
 ],
 "metadata": {
  "kernelspec": {
   "display_name": "R",
   "language": "R",
   "name": "ir"
  },
  "language_info": {
   "codemirror_mode": "r",
   "file_extension": ".r",
   "mimetype": "text/x-r-source",
   "name": "R",
   "pygments_lexer": "r",
   "version": "3.6.0"
  }
 },
 "nbformat": 4,
 "nbformat_minor": 2
}
