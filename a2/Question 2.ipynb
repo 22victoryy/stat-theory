{
 "cells": [
  {
   "cell_type": "markdown",
   "metadata": {},
   "source": [
    "# Question 2 #"
   ]
  },
  {
   "cell_type": "code",
   "execution_count": 2,
   "metadata": {},
   "outputs": [
    {
     "data": {
      "text/html": [
       "<style>\n",
       ".list-inline {list-style: none; margin:0; padding: 0}\n",
       ".list-inline>li {display: inline-block}\n",
       ".list-inline>li:not(:last-child)::after {content: \"\\00b7\"; padding: 0 .5ex}\n",
       "</style>\n",
       "<ol class=list-inline><li>2.67</li><li>0.89</li><li>8.13</li><li>3.48</li><li>8.57</li><li>11.37</li><li>8.76</li><li>13.28</li><li>3.29</li><li>6.94</li><li>10.62</li><li>9.3</li><li>4.72</li><li>13.1</li><li>10.76</li></ol>\n"
      ],
      "text/latex": [
       "\\begin{enumerate*}\n",
       "\\item 2.67\n",
       "\\item 0.89\n",
       "\\item 8.13\n",
       "\\item 3.48\n",
       "\\item 8.57\n",
       "\\item 11.37\n",
       "\\item 8.76\n",
       "\\item 13.28\n",
       "\\item 3.29\n",
       "\\item 6.94\n",
       "\\item 10.62\n",
       "\\item 9.3\n",
       "\\item 4.72\n",
       "\\item 13.1\n",
       "\\item 10.76\n",
       "\\end{enumerate*}\n"
      ],
      "text/markdown": [
       "1. 2.67\n",
       "2. 0.89\n",
       "3. 8.13\n",
       "4. 3.48\n",
       "5. 8.57\n",
       "6. 11.37\n",
       "7. 8.76\n",
       "8. 13.28\n",
       "9. 3.29\n",
       "10. 6.94\n",
       "11. 10.62\n",
       "12. 9.3\n",
       "13. 4.72\n",
       "14. 13.1\n",
       "15. 10.76\n",
       "\n",
       "\n"
      ],
      "text/plain": [
       " [1]  2.67  0.89  8.13  3.48  8.57 11.37  8.76 13.28  3.29  6.94 10.62  9.30\n",
       "[13]  4.72 13.10 10.76"
      ]
     },
     "metadata": {},
     "output_type": "display_data"
    },
    {
     "data": {
      "text/html": [
       "<style>\n",
       ".list-inline {list-style: none; margin:0; padding: 0}\n",
       ".list-inline>li {display: inline-block}\n",
       ".list-inline>li:not(:last-child)::after {content: \"\\00b7\"; padding: 0 .5ex}\n",
       "</style>\n",
       "<ol class=list-inline><li>7.84</li><li>7.34</li><li>3.4</li><li>4.54</li><li>17.97</li><li>2.79</li><li>5.82</li><li>0.47</li><li>4.55</li><li>4.32</li><li>2.9</li><li>12.12</li></ol>\n"
      ],
      "text/latex": [
       "\\begin{enumerate*}\n",
       "\\item 7.84\n",
       "\\item 7.34\n",
       "\\item 3.4\n",
       "\\item 4.54\n",
       "\\item 17.97\n",
       "\\item 2.79\n",
       "\\item 5.82\n",
       "\\item 0.47\n",
       "\\item 4.55\n",
       "\\item 4.32\n",
       "\\item 2.9\n",
       "\\item 12.12\n",
       "\\end{enumerate*}\n"
      ],
      "text/markdown": [
       "1. 7.84\n",
       "2. 7.34\n",
       "3. 3.4\n",
       "4. 4.54\n",
       "5. 17.97\n",
       "6. 2.79\n",
       "7. 5.82\n",
       "8. 0.47\n",
       "9. 4.55\n",
       "10. 4.32\n",
       "11. 2.9\n",
       "12. 12.12\n",
       "\n",
       "\n"
      ],
      "text/plain": [
       " [1]  7.84  7.34  3.40  4.54 17.97  2.79  5.82  0.47  4.55  4.32  2.90 12.12"
      ]
     },
     "metadata": {},
     "output_type": "display_data"
    }
   ],
   "source": [
    "# Only change this following line, remove 261 and put your student id\n",
    "student_id=1003998757 # my student ID \n",
    "# do not change anything below\n",
    "set.seed(student_id)\n",
    "Group1= round(rnorm(15,mean=10,sd=4),2)\n",
    "Group2= round(rnorm(12,mean=7,sd=4),2)\n",
    "x= round(rnorm(15,mean=18,sd=4),2)\n",
    "y= round(50+1.5*x+rnorm(15, mean=0, sd=5),2)\n",
    "#Data for Quesiton 2 and 3\n",
    "Group1\n",
    "Group2"
   ]
  },
  {
   "cell_type": "markdown",
   "metadata": {},
   "source": [
    "OUPUTS AND EXPLANATIONS SEQUENTIALLY FOR A) AND B) BELOW:"
   ]
  },
  {
   "cell_type": "markdown",
   "metadata": {},
   "source": [
    "a) Assuming $\\sigma_{1}^{2} = \\sigma_{2}^{2}$, \n",
    "   * i) construct a 95% confidence interval for $\\mu_{1}-\\mu_{2}$ and interpret."
   ]
  },
  {
   "cell_type": "markdown",
   "metadata": {},
   "source": [
    "We will be doing a pooled-variance t test.\n",
    "\n",
    "Confidence Interval = Point Estimate $\\pm$ Margin of Error."
   ]
  },
  {
   "cell_type": "code",
   "execution_count": 35,
   "metadata": {},
   "outputs": [
    {
     "name": "stdout",
     "output_type": "stream",
     "text": [
      "[1] \"Summary Statistics for Group1:\"\n",
      "[1] \"Mean: 7.725333\"\n",
      "[1] \"Standard Deviation: 3.91574270763299\"\n",
      "[1] \"Sample Size: 15\"\n",
      "[1] \"==========================================\"\n",
      "[1] \"Summary Statistics for Group2:\"\n",
      "[1] \"Mean: 6.171667\"\n",
      "[1] \"Standard Deviation: 4.76642391837916\"\n",
      "[1] \"Sample Size: 12\"\n"
     ]
    }
   ],
   "source": [
    "print('Summary Statistics for Group1:')\n",
    "x1 = mean(Group1)\n",
    "\n",
    "a = paste(\"Mean:\", format(x1))\n",
    "print(a)\n",
    "\n",
    "s1 = sd(Group1)\n",
    "b = paste(\"Standard Deviation:\", s1)\n",
    "print(b)\n",
    "\n",
    "n1 = length(Group1)\n",
    "c = paste('Sample Size:', n1)\n",
    "print(c)\n",
    "\n",
    "print('==========================================')\n",
    "\n",
    "print('Summary Statistics for Group2:')\n",
    "x2 = mean(Group2)\n",
    "\n",
    "d = paste(\"Mean:\", format(x2))\n",
    "print(d)\n",
    "\n",
    "s2 = sd(Group2)\n",
    "e = paste(\"Standard Deviation:\", s2)\n",
    "print(e)\n",
    "\n",
    "n2 = length(Group2)\n",
    "f = paste('Sample Size:', n2)\n",
    "print(f)"
   ]
  },
  {
   "cell_type": "markdown",
   "metadata": {},
   "source": [
    "The pooled sample variance is $S_{p}^2 = \\frac{(m - 1)S_{p}^2 + (n-1)S_{y}^2}{n + m - 2}$. Inputting the values of the above, we get:"
   ]
  },
  {
   "cell_type": "code",
   "execution_count": 41,
   "metadata": {},
   "outputs": [
    {
     "name": "stdout",
     "output_type": "stream",
     "text": [
      "[1] \"Pooled sample variance: 18.5827736\"\n"
     ]
    }
   ],
   "source": [
    "pooled_s_var = ((15 - 1)*(3.91574270763299^2) + (12 - 1)*(4.76642391837916^2)) / (15 + 12 - 2)\n",
    "g = paste('Pooled sample variance:', pooled_s_var)\n",
    "print(g)"
   ]
  },
  {
   "cell_type": "markdown",
   "metadata": {},
   "source": [
    "Calculating the standard error $S_{p}^2\\sqrt(\\frac{1}{m}+\\frac{1}{n})$, "
   ]
  },
  {
   "cell_type": "code",
   "execution_count": 49,
   "metadata": {},
   "outputs": [
    {
     "name": "stdout",
     "output_type": "stream",
     "text": [
      "[1] \"Standard Error: 1.66955564148069\"\n"
     ]
    }
   ],
   "source": [
    "se_pooled = sqrt(pooled_s_var) * sqrt((1/15) + (1/12))\n",
    "h = paste('Standard Error:', se_pooled)\n",
    "print(h)"
   ]
  },
  {
   "cell_type": "markdown",
   "metadata": {},
   "source": [
    "Now, finding, $t_{\\frac{\\alpha}{2}}$.\n",
    "\n",
    "Our $\\alpha$ is 0.05, so we need $t_{.025}$. \n",
    "\n",
    "$df = m + n - 2 = 15 + 12 - 2 = 25$\n",
    "\n",
    "$t_{.025}$, according to the table, is approximately 1.980.\n",
    "\n",
    "\n",
    "Putting the above all together, our 95% confidence interval for $\\sigma_{1}^{2} = \\sigma_{2}^{2}$ will be, "
   ]
  },
  {
   "cell_type": "code",
   "execution_count": 50,
   "metadata": {},
   "outputs": [
    {
     "name": "stdout",
     "output_type": "stream",
     "text": [
      "[1] \"95% confidence interval: -1.7520535034651 4.85938683679843\"\n"
     ]
    }
   ],
   "source": [
    "upper = x1 - x2 + (1.980 * se_pooled)\n",
    "lower = x1 - x2 - (1.980 * se_pooled)\n",
    "j = paste(\"95% confidence interval:\", lower , upper)\n",
    "print(j)"
   ]
  },
  {
   "cell_type": "markdown",
   "metadata": {},
   "source": [
    "We can be 95% confident that the difference $\\mu_{1} - \\mu{2}$ lies within the confidence interval."
   ]
  },
  {
   "cell_type": "markdown",
   "metadata": {},
   "source": [
    " * ii) at 5% level of significance, test $H_{0} : \\mu_{1} = \\mu_{2}$ vs $H_{a} : \\mu_{1} \\neq \\mu_{2}$."
   ]
  },
  {
   "cell_type": "markdown",
   "metadata": {},
   "source": [
    "Calculating our test statistic $t = \\frac{\\bar x_{1} - \\bar x_{2}}{SE(\\bar x_{1} - \\bar x_{2})}$, "
   ]
  },
  {
   "cell_type": "code",
   "execution_count": 51,
   "metadata": {},
   "outputs": [
    {
     "name": "stdout",
     "output_type": "stream",
     "text": [
      "[1] \"Test statistic: 0.930586934670087\"\n"
     ]
    }
   ],
   "source": [
    "test_stat = (x1 - x2) / (se_pooled)\n",
    "k = paste(\"Test statistic:\", test_stat)\n",
    "print(k)"
   ]
  },
  {
   "cell_type": "markdown",
   "metadata": {},
   "source": [
    "Finding the p value with the same degrees of freedom 25, we get .361011 as our p value.\n",
    "\n",
    "The result is not significant at p < .05. There is weak evidence of a difference among the means of Group1 and Group2."
   ]
  }
 ],
 "metadata": {
  "kernelspec": {
   "display_name": "R",
   "language": "R",
   "name": "ir"
  },
  "language_info": {
   "codemirror_mode": "r",
   "file_extension": ".r",
   "mimetype": "text/x-r-source",
   "name": "R",
   "pygments_lexer": "r",
   "version": "3.6.0"
  }
 },
 "nbformat": 4,
 "nbformat_minor": 2
}
