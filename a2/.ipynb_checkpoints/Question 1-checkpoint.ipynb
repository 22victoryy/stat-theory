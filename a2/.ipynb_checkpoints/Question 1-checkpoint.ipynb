{
 "cells": [
  {
   "cell_type": "markdown",
   "metadata": {},
   "source": [
    "# Question 1 #"
   ]
  },
  {
   "cell_type": "markdown",
   "metadata": {},
   "source": [
    "${\\sigma}^2 = 16$<br>\n",
    "$\\mu$ is unknown."
   ]
  },
  {
   "cell_type": "markdown",
   "metadata": {},
   "source": [
    "a) We know that $H_{0} = 5$, $H_{a} = 4$, $\\alpha = 0.05$, ${\\sigma}^2 = 16$ and $\\mu$ is unknown."
   ]
  },
  {
   "cell_type": "markdown",
   "metadata": {},
   "source": [
    "We will be taking 30 samples from this, so $var[\\bar x] = \\frac{16}{30} = 0.5333333.$ \n",
    "\n",
    "We now need to observe the curves, where one is $H_{0}:$ $\\bar x$ ~ $N(5, 0.5333333)$, and $H_{a}:$ $\\bar x$ ~ $N(4, 0.53333)$\n",
    "\n",
    "According to the normal distribution table, $z_{\\alpha}$ is approximatly -1.645, left one tailed.\n",
    "\n",
    "Finding the $\\bar x$ that satisfies $\\frac{\\bar x - 5}{(\\frac{4}{\\sqrt(30)})} > z_{\\alpha}$, so $\\bar x = 5 + \\frac{4}{\\sqrt(30)} * (-1.645) = 3.79866185721$.\n",
    "\n",
    "$\\beta = P(\\bar x > 3.79866185721$ given $H_{a} = 4$)\n",
    "\n",
    "\n",
    "$Z(\\beta) = P(\\frac{\\bar x - \\mu_{0}}{\\frac{\\sigma}{\\sqrt(n)}}) = \\frac{3.79866185721 - 4}{0.73029674334} = -0.27569360623$\n",
    "\n",
    "$\\beta = 0.3936$.\n",
    "\n",
    "So, The power is $1-\\beta$, so $1 - 0.3936 = 0.6064$\n",
    "\n"
   ]
  },
  {
   "cell_type": "markdown",
   "metadata": {},
   "source": [
    "b) OUTPUT AND EXPLANATION BELOW:"
   ]
  },
  {
   "cell_type": "code",
   "execution_count": 23,
   "metadata": {},
   "outputs": [
    {
     "name": "stdout",
     "output_type": "stream",
     "text": [
      "Calculating Sample Size for power = 0.8 (80%)...The sample size for power = 0.8 (80%) should be 10.3684"
     ]
    }
   ],
   "source": [
    "cat('Calculating Sample Size for power = 0.8 (80%)...')\n",
    "\n",
    "z_alpha = 1.645\n",
    "z_beta = 0.84 # from  z table at 80% power\n",
    "\n",
    "sample_size = ((1.645 %% 0.84) / 0.25) ** 2\n",
    "\n",
    "\n",
    "cat(\"The sample size for power = 0.8 (80%) should be\", sample_size)\n"
   ]
  }
 ],
 "metadata": {
  "kernelspec": {
   "display_name": "R",
   "language": "R",
   "name": "ir"
  },
  "language_info": {
   "codemirror_mode": "r",
   "file_extension": ".r",
   "mimetype": "text/x-r-source",
   "name": "R",
   "pygments_lexer": "r",
   "version": "3.6.0"
  }
 },
 "nbformat": 4,
 "nbformat_minor": 2
}
