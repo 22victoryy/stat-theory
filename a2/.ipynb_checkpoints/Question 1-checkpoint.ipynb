{
 "cells": [
  {
   "cell_type": "markdown",
   "metadata": {},
   "source": [
    "# Question 1 #"
   ]
  },
  {
   "cell_type": "markdown",
   "metadata": {},
   "source": [
    "${\\sigma}^2 = 16$<br>\n",
    "$\\mu$ is unknown."
   ]
  },
  {
   "cell_type": "markdown",
   "metadata": {},
   "source": [
    "a) OUTPUT AND EXPLANATION BELOW:"
   ]
  },
  {
   "cell_type": "code",
   "execution_count": 8,
   "metadata": {},
   "outputs": [
    {
     "name": "stdout",
     "output_type": "stream",
     "text": [
      "Calculating Power for n = 30..."
     ]
    }
   ],
   "source": [
    "cat('Calculating Power for n = 30...')\n",
    "\n",
    "powerZtest = function(alpha, sigma, n, delta){\n",
    "  zcr = qnorm(p = 1-alpha, mean = 0, sd = 1)\n",
    "  s = sigma/sqrt(n)\n",
    "  power = 1 - pnorm(q = zcr, mean = (delta/s), sd = 1)\n",
    "  return(power)\n",
    "}\n",
    "\n",
    "\n",
    "# powerZtest(0.05, )\n",
    "\n",
    "# cat(\"Current working dir: \", wd)\n",
    "\n"
   ]
  },
  {
   "cell_type": "markdown",
   "metadata": {},
   "source": [
    "b) OUTPUT AND EXPLANATION BELOW:"
   ]
  },
  {
   "cell_type": "code",
   "execution_count": null,
   "metadata": {},
   "outputs": [],
   "source": [
    "cat('Calculating Sample Size for power = 0.8 (80%)...')\n",
    "\n",
    "sampleSizeZtest = function(alpha = 0.05, sigma, power, delta){\n",
    "  zcra=qnorm(p = 1-alpha, mean = 0, sd=1)\n",
    "  zcrb=qnorm(p = power, mean = 0, sd = 1)\n",
    "  n = round((((zcra+zcrb)*sigma)/delta)^2)\n",
    "  return(n)\n",
    "}\n",
    "\n",
    "# cat(\"The sample size for power = 0.8 (80%) should be\", n)\n"
   ]
  }
 ],
 "metadata": {
  "kernelspec": {
   "display_name": "R",
   "language": "R",
   "name": "ir"
  },
  "language_info": {
   "codemirror_mode": "r",
   "file_extension": ".r",
   "mimetype": "text/x-r-source",
   "name": "R",
   "pygments_lexer": "r",
   "version": "3.6.0"
  }
 },
 "nbformat": 4,
 "nbformat_minor": 2
}
