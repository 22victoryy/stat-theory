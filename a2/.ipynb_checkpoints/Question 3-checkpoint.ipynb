{
 "cells": [
  {
   "cell_type": "markdown",
   "metadata": {},
   "source": [
    "# Question 3 #"
   ]
  },
  {
   "cell_type": "code",
   "execution_count": 4,
   "metadata": {},
   "outputs": [],
   "source": [
    "group_one = [2.67, 0.89, 8.13, 3.48, 8.57,11.37, 8.76, 13.28, 3.29, 6.94, 10.62, 9.3, 4.72, 13.1, 10.76]\n",
    "group_two = [7.84, 7.34, 3.4, 4.54, 17.97, 2.79, 5.82, 0.47, 4.55, 4.32, 2.9, 12.12]"
   ]
  },
  {
   "cell_type": "markdown",
   "metadata": {},
   "source": [
    "For groups 1 and 2, we will assign a Categorical variable X where if it is group 1 it will be labelled them as 1 and if it is group 2, it will be labelled as 2."
   ]
  },
  {
   "cell_type": "code",
   "execution_count": 5,
   "metadata": {},
   "outputs": [
    {
     "name": "stdout",
     "output_type": "stream",
     "text": [
      "    value  group\n",
      "0    2.67      0\n",
      "1    0.89      0\n",
      "2    8.13      0\n",
      "3    3.48      0\n",
      "4    8.57      0\n",
      "5   11.37      0\n",
      "6    8.76      0\n",
      "7   13.28      0\n",
      "8    3.29      0\n",
      "9    6.94      0\n",
      "10  10.62      0\n",
      "11   9.30      0\n",
      "12   4.72      0\n",
      "13  13.10      0\n",
      "14  10.76      0\n",
      "15   7.84      1\n",
      "16   7.34      1\n",
      "17   3.40      1\n",
      "18   4.54      1\n",
      "19  17.97      1\n",
      "20   2.79      1\n",
      "21   5.82      1\n",
      "22   0.47      1\n",
      "23   4.55      1\n",
      "24   4.32      1\n",
      "25   2.90      1\n",
      "26  12.12      1\n"
     ]
    }
   ],
   "source": [
    "import pandas as pd\n",
    "import numpy as np\n",
    "import matplotlib.pyplot as plt\n",
    "\n",
    "def struct_table(one, two):\n",
    "    i = 0\n",
    "    frame = []\n",
    "    while i < len(one):\n",
    "        frame.append([one[i], 0])\n",
    "        \n",
    "        i += 1\n",
    "    j = 0\n",
    "    while j < len(two):\n",
    "        frame.append([two[j], 1])\n",
    "        j += 1\n",
    "    return frame\n",
    "\n",
    "frame = struct_table(group_one, group_two)\n",
    "\n",
    "data = pd.DataFrame(frame) \n",
    "\n",
    "data.transpose()\n",
    "\n",
    "data.columns = ['value', 'group']\n",
    "\n",
    "print(data)\n",
    "\n",
    "\n",
    "X = data['value'].values\n",
    "Y = data['group'].values"
   ]
  },
  {
   "cell_type": "code",
   "execution_count": 6,
   "metadata": {},
   "outputs": [
    {
     "name": "stdout",
     "output_type": "stream",
     "text": [
      "Beta 1: -0.02154898970868148\n",
      "Beta 2: 0.5960375964913689\n"
     ]
    }
   ],
   "source": [
    "# # Building the model\n",
    "# import numpy as np\n",
    "\n",
    "X_mean = np.mean(X)\n",
    "Y_mean = np.mean(Y)\n",
    "\n",
    "num = 0\n",
    "den = 0\n",
    "for i in range(len(X)):\n",
    "    num += (X[i] - X_mean)*(Y[i] - Y_mean)\n",
    "    den += (X[i] - X_mean)**2\n",
    "m = num / den # beta 1\n",
    "c = Y_mean - m*X_mean # beta 2\n",
    "\n",
    "print(\"Beta 1: {}\".format(m))\n",
    "print(\"Beta 2: {}\".format(c))"
   ]
  },
  {
   "cell_type": "code",
   "execution_count": 79,
   "metadata": {},
   "outputs": [
    {
     "data": {
      "image/png": "[encoded data removed]",
      "text/plain": [
       "<Figure size 432x288 with 1 Axes>"
      ]
     },
     "metadata": {
      "needs_background": "light"
     },
     "output_type": "display_data"
    }
   ],
   "source": [
    "Y_pred = m*X + c\n",
    "\n",
    "plt.scatter(X, Y) # actual\n",
    "# plt.scatter(X, Y_pred, color='red')\n",
    "plt.plot([min(X), max(X)], [min(Y_pred), max(Y_pred)], color='red') # predicted\n",
    "plt.show()"
   ]
  },
  {
   "cell_type": "markdown",
   "metadata": {},
   "source": [
    "b) Output below:"
   ]
  },
  {
   "cell_type": "markdown",
   "metadata": {},
   "source": [
    "c)\n",
    "\n",
    "They are similar."
   ]
  }
 ],
 "metadata": {
  "kernelspec": {
   "display_name": "Python 3",
   "language": "python",
   "name": "python3"
  },
  "language_info": {
   "codemirror_mode": {
    "name": "ipython",
    "version": 3
   },
   "file_extension": ".py",
   "mimetype": "text/x-python",
   "name": "python",
   "nbconvert_exporter": "python",
   "pygments_lexer": "ipython3",
   "version": "3.6.2"
  }
 },
 "nbformat": 4,
 "nbformat_minor": 2
}
