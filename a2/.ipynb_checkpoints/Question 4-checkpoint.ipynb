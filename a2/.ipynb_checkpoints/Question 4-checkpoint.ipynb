{
 "cells": [
  {
   "cell_type": "code",
   "execution_count": 3,
   "metadata": {},
   "outputs": [
    {
     "data": {
      "text/html": [
       "<style>\n",
       ".list-inline {list-style: none; margin:0; padding: 0}\n",
       ".list-inline>li {display: inline-block}\n",
       ".list-inline>li:not(:last-child)::after {content: \"\\00b7\"; padding: 0 .5ex}\n",
       "</style>\n",
       "<ol class=list-inline><li>2.67</li><li>0.89</li><li>8.13</li><li>3.48</li><li>8.57</li><li>11.37</li><li>8.76</li><li>13.28</li><li>3.29</li><li>6.94</li><li>10.62</li><li>9.3</li><li>4.72</li><li>13.1</li><li>10.76</li></ol>\n"
      ],
      "text/latex": [
       "\\begin{enumerate*}\n",
       "\\item 2.67\n",
       "\\item 0.89\n",
       "\\item 8.13\n",
       "\\item 3.48\n",
       "\\item 8.57\n",
       "\\item 11.37\n",
       "\\item 8.76\n",
       "\\item 13.28\n",
       "\\item 3.29\n",
       "\\item 6.94\n",
       "\\item 10.62\n",
       "\\item 9.3\n",
       "\\item 4.72\n",
       "\\item 13.1\n",
       "\\item 10.76\n",
       "\\end{enumerate*}\n"
      ],
      "text/markdown": [
       "1. 2.67\n",
       "2. 0.89\n",
       "3. 8.13\n",
       "4. 3.48\n",
       "5. 8.57\n",
       "6. 11.37\n",
       "7. 8.76\n",
       "8. 13.28\n",
       "9. 3.29\n",
       "10. 6.94\n",
       "11. 10.62\n",
       "12. 9.3\n",
       "13. 4.72\n",
       "14. 13.1\n",
       "15. 10.76\n",
       "\n",
       "\n"
      ],
      "text/plain": [
       " [1]  2.67  0.89  8.13  3.48  8.57 11.37  8.76 13.28  3.29  6.94 10.62  9.30\n",
       "[13]  4.72 13.10 10.76"
      ]
     },
     "metadata": {},
     "output_type": "display_data"
    },
    {
     "data": {
      "text/html": [
       "<style>\n",
       ".list-inline {list-style: none; margin:0; padding: 0}\n",
       ".list-inline>li {display: inline-block}\n",
       ".list-inline>li:not(:last-child)::after {content: \"\\00b7\"; padding: 0 .5ex}\n",
       "</style>\n",
       "<ol class=list-inline><li>7.84</li><li>7.34</li><li>3.4</li><li>4.54</li><li>17.97</li><li>2.79</li><li>5.82</li><li>0.47</li><li>4.55</li><li>4.32</li><li>2.9</li><li>12.12</li></ol>\n"
      ],
      "text/latex": [
       "\\begin{enumerate*}\n",
       "\\item 7.84\n",
       "\\item 7.34\n",
       "\\item 3.4\n",
       "\\item 4.54\n",
       "\\item 17.97\n",
       "\\item 2.79\n",
       "\\item 5.82\n",
       "\\item 0.47\n",
       "\\item 4.55\n",
       "\\item 4.32\n",
       "\\item 2.9\n",
       "\\item 12.12\n",
       "\\end{enumerate*}\n"
      ],
      "text/markdown": [
       "1. 7.84\n",
       "2. 7.34\n",
       "3. 3.4\n",
       "4. 4.54\n",
       "5. 17.97\n",
       "6. 2.79\n",
       "7. 5.82\n",
       "8. 0.47\n",
       "9. 4.55\n",
       "10. 4.32\n",
       "11. 2.9\n",
       "12. 12.12\n",
       "\n",
       "\n"
      ],
      "text/plain": [
       " [1]  7.84  7.34  3.40  4.54 17.97  2.79  5.82  0.47  4.55  4.32  2.90 12.12"
      ]
     },
     "metadata": {},
     "output_type": "display_data"
    },
    {
     "data": {
      "text/html": [
       "<style>\n",
       ".list-inline {list-style: none; margin:0; padding: 0}\n",
       ".list-inline>li {display: inline-block}\n",
       ".list-inline>li:not(:last-child)::after {content: \"\\00b7\"; padding: 0 .5ex}\n",
       "</style>\n",
       "<ol class=list-inline><li>14.89</li><li>11.02</li><li>18</li><li>19.49</li><li>15.31</li><li>19.38</li><li>16.72</li><li>19.28</li><li>18.72</li><li>19.56</li><li>22.17</li><li>23.81</li><li>24.19</li><li>15.83</li><li>17.86</li></ol>\n"
      ],
      "text/latex": [
       "\\begin{enumerate*}\n",
       "\\item 14.89\n",
       "\\item 11.02\n",
       "\\item 18\n",
       "\\item 19.49\n",
       "\\item 15.31\n",
       "\\item 19.38\n",
       "\\item 16.72\n",
       "\\item 19.28\n",
       "\\item 18.72\n",
       "\\item 19.56\n",
       "\\item 22.17\n",
       "\\item 23.81\n",
       "\\item 24.19\n",
       "\\item 15.83\n",
       "\\item 17.86\n",
       "\\end{enumerate*}\n"
      ],
      "text/markdown": [
       "1. 14.89\n",
       "2. 11.02\n",
       "3. 18\n",
       "4. 19.49\n",
       "5. 15.31\n",
       "6. 19.38\n",
       "7. 16.72\n",
       "8. 19.28\n",
       "9. 18.72\n",
       "10. 19.56\n",
       "11. 22.17\n",
       "12. 23.81\n",
       "13. 24.19\n",
       "14. 15.83\n",
       "15. 17.86\n",
       "\n",
       "\n"
      ],
      "text/plain": [
       " [1] 14.89 11.02 18.00 19.49 15.31 19.38 16.72 19.28 18.72 19.56 22.17 23.81\n",
       "[13] 24.19 15.83 17.86"
      ]
     },
     "metadata": {},
     "output_type": "display_data"
    },
    {
     "data": {
      "text/html": [
       "<style>\n",
       ".list-inline {list-style: none; margin:0; padding: 0}\n",
       ".list-inline>li {display: inline-block}\n",
       ".list-inline>li:not(:last-child)::after {content: \"\\00b7\"; padding: 0 .5ex}\n",
       "</style>\n",
       "<ol class=list-inline><li>72.07</li><li>67.31</li><li>73.75</li><li>79.1</li><li>68.49</li><li>74.56</li><li>77.88</li><li>86.41</li><li>78.46</li><li>76.74</li><li>80.12</li><li>84.78</li><li>85.69</li><li>74.31</li><li>73.35</li></ol>\n"
      ],
      "text/latex": [
       "\\begin{enumerate*}\n",
       "\\item 72.07\n",
       "\\item 67.31\n",
       "\\item 73.75\n",
       "\\item 79.1\n",
       "\\item 68.49\n",
       "\\item 74.56\n",
       "\\item 77.88\n",
       "\\item 86.41\n",
       "\\item 78.46\n",
       "\\item 76.74\n",
       "\\item 80.12\n",
       "\\item 84.78\n",
       "\\item 85.69\n",
       "\\item 74.31\n",
       "\\item 73.35\n",
       "\\end{enumerate*}\n"
      ],
      "text/markdown": [
       "1. 72.07\n",
       "2. 67.31\n",
       "3. 73.75\n",
       "4. 79.1\n",
       "5. 68.49\n",
       "6. 74.56\n",
       "7. 77.88\n",
       "8. 86.41\n",
       "9. 78.46\n",
       "10. 76.74\n",
       "11. 80.12\n",
       "12. 84.78\n",
       "13. 85.69\n",
       "14. 74.31\n",
       "15. 73.35\n",
       "\n",
       "\n"
      ],
      "text/plain": [
       " [1] 72.07 67.31 73.75 79.10 68.49 74.56 77.88 86.41 78.46 76.74 80.12 84.78\n",
       "[13] 85.69 74.31 73.35"
      ]
     },
     "metadata": {},
     "output_type": "display_data"
    }
   ],
   "source": [
    "# Only change this following line, remove 261 and put your student id\n",
    "student_id=1003998757\n",
    "# do not change anything below\n",
    "set.seed(student_id)\n",
    "Group1= round(rnorm(15,mean=10,sd=4),2)\n",
    "Group2= round(rnorm(12,mean=7,sd=4),2)\n",
    "x= round(rnorm(15,mean=18,sd=4),2)\n",
    "y= round(50+1.5*x+rnorm(15, mean=0, sd=5),2)\n",
    "#Data for Quesiton 2 and 3\n",
    "Group1\n",
    "Group2\n",
    "#Data for Quesiton 4\n",
    "x\n",
    "y"
   ]
  },
  {
   "cell_type": "code",
   "execution_count": null,
   "metadata": {},
   "outputs": [],
   "source": []
  }
 ],
 "metadata": {
  "kernelspec": {
   "display_name": "R",
   "language": "R",
   "name": "ir"
  },
  "language_info": {
   "codemirror_mode": "r",
   "file_extension": ".r",
   "mimetype": "text/x-r-source",
   "name": "R",
   "pygments_lexer": "r",
   "version": "3.6.0"
  }
 },
 "nbformat": 4,
 "nbformat_minor": 2
}
